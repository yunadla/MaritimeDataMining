{
  "cells": [
    {
      "cell_type": "markdown",
      "metadata": {
        "id": "view-in-github",
        "colab_type": "text"
      },
      "source": [
        "<a href=\"https://colab.research.google.com/github/yunadla/MaritimeDataMining/blob/main/3%EC%A3%BC%EC%B0%A8_%EA%B3%BC%EC%A0%9C.ipynb\" target=\"_parent\"><img src=\"https://colab.research.google.com/assets/colab-badge.svg\" alt=\"Open In Colab\"/></a>"
      ]
    },
    {
      "cell_type": "code",
      "execution_count": null,
      "metadata": {
        "colab": {
          "base_uri": "https://localhost:8080/"
        },
        "id": "jciP6ZYlqoa_",
        "outputId": "422ca5c8-2724-4da9-eb5a-3b3445d45c68"
      },
      "outputs": [
        {
          "name": "stdout",
          "output_type": "stream",
          "text": [
            "[6, 5, 4, 3, 2]\n"
          ]
        }
      ],
      "source": [
        "# 과제 1에 대한 답\n",
        "\n",
        "a=[2,3,4,5,6]\n",
        "reversed_a=[]\n",
        "for _ in range(len(a)):\n",
        "  reversed_a.append(a.pop())\n",
        "\n",
        "print(reversed_a)\n"
      ]
    },
    {
      "cell_type": "code",
      "execution_count": null,
      "metadata": {
        "colab": {
          "base_uri": "https://localhost:8080/"
        },
        "id": "qXaDMn4PKDkR",
        "outputId": "c19056b7-cfff-463a-c07b-9db97801167c"
      },
      "outputs": [
        {
          "name": "stdout",
          "output_type": "stream",
          "text": [
            "주어진 튜플: (1, 2, 5, 4, 3, 2, 1, 4, 7, 8, 9, 9, 3, 7, 3)\n",
            "가장 많이 나타나는 요소는: 3\n",
            "주어진 튜플: (1, 2, 5, 4, 3, 2, 9, 4, 7, 8, 9, 9, 3, 7, 3)\n",
            "가장 많이 나타나는 요소는: 9\n"
          ]
        }
      ],
      "source": [
        "#과제 2에 대한 답\n",
        "\n",
        "tup = 1, 2, 5, 4, 3, 2, 1, 4, 7, 8, 9, 9, 3, 7, 3\n",
        "print('주어진 튜플:', tup)\n",
        "\n",
        "\n",
        "temp = sorted(list(tup))\n",
        "\n",
        "max_count = 1\n",
        "count = 1\n",
        "cur_value = max_value = temp[0]\n",
        "for i in range(1, len(temp)):\n",
        "    if temp[i] == cur_value:\n",
        "        count += 1\n",
        "        if count > max_count or (count == max_count and cur_value > max_value):\n",
        "\n",
        "            max_count = count\n",
        "            max_value = cur_value\n",
        "    else:\n",
        "        cur_value = temp[i]\n",
        "        count = 1\n",
        "\n",
        "print('가장 많이 나타나는 요소는:', max_value)\n",
        "\n",
        "\n",
        "tup = 1, 2, 5, 4, 3, 2, 9, 4, 7, 8, 9, 9, 3, 7, 3\n",
        "print('주어진 튜플:', tup)\n",
        "\n",
        "\n",
        "temp = sorted(list(tup))\n",
        "\n",
        "max_count = 1\n",
        "count = 1\n",
        "cur_value = max_value = temp[0]\n",
        "\n",
        "for i in range(1, len(temp)):\n",
        "    if temp[i] == cur_value:\n",
        "        count += 1\n",
        "        if count > max_count or (count == max_count and cur_value > max_value):\n",
        "\n",
        "            max_count = count\n",
        "            max_value = cur_value\n",
        "    else:\n",
        "        cur_value = temp[i]\n",
        "        count = 1\n",
        "\n",
        "print('가장 많이 나타나는 요소는:', max_value)\n"
      ]
    },
    {
      "cell_type": "code",
      "execution_count": null,
      "metadata": {
        "colab": {
          "base_uri": "https://localhost:8080/"
        },
        "id": "1g6btVONKJTl",
        "outputId": "fa860bc1-e275-4471-ed92-7e0aded98356"
      },
      "outputs": [
        {
          "name": "stdout",
          "output_type": "stream",
          "text": [
            "Americano         가격 : 3,000원\n",
            "Ice Americano     가격 : 3,500원\n",
            "Cappuccino        가격 : 4,000원\n",
            "Cafe Latte        가격 : 4,500원\n",
            "Espresso          가격 : 3,600원\n"
          ]
        }
      ],
      "source": [
        "#과제 3-1에 대한 답\n",
        "\n",
        "\n",
        "menu = {\n",
        "    \"Americano\": 3000,\n",
        "    \"Ice Americano\": 3500,\n",
        "    \"Cappuccino\": 4000,\n",
        "    \"Cafe Latte\": 4500,\n",
        "    \"Espresso\": 3600\n",
        "}\n",
        "\n",
        "for key in menu:\n",
        "    print(\"{:16s}  가격 : {:,}원\".format(key, menu[key]))\n"
      ]
    },
    {
      "cell_type": "code",
      "execution_count": null,
      "metadata": {
        "colab": {
          "background_save": true,
          "base_uri": "https://localhost:8080/"
        },
        "id": "2qj0C6AQLXju",
        "outputId": "afed03d0-58c1-4eec-f4a5-4f40f93e66f8"
      },
      "outputs": [
        {
          "metadata": {
            "tags": null
          },
          "name": "stdout",
          "output_type": "stream",
          "text": [
            "Americano         가격 : 3,000원\n",
            "Ice Americano     가격 : 3,500원\n",
            "Cappuccino        가격 : 4,000원\n",
            "Cafe Latte        가격 : 4,500원\n",
            "Espresso          가격 : 3,600원\n"
          ]
        }
      ],
      "source": [
        "#과제 3-2에 대한 답\n",
        "\n",
        "\n",
        "menu = {\n",
        "    \"Americano\": 3000,\n",
        "    \"Ice Americano\": 3500,\n",
        "    \"Cappuccino\": 4000,\n",
        "    \"Cafe Latte\": 4500,\n",
        "    \"Espresso\": 3600\n",
        "}\n",
        "\n",
        "\n",
        "for key in menu:\n",
        "    print(\"{:16s}  가격 : {:,}원\".format(key, menu[key]))\n",
        "\n",
        "\n",
        "choice = input(\"위의 메뉴중 하나를 선택하세요: \")\n",
        "\n",
        "\n",
        "if choice in menu.keys():\n",
        "    print('{}는 {:,}원 입니다. 결제를 부탁합니다.'.format(choice, menu[choice]))\n",
        "else:\n",
        "    print('미안합니다. {}는 메뉴에 없습니다'.format(choice))\n"
      ]
    },
    {
      "cell_type": "code",
      "execution_count": null,
      "metadata": {
        "id": "fe2jOjmCMm8Q"
      },
      "outputs": [],
      "source": []
    }
  ],
  "metadata": {
    "colab": {
      "provenance": [],
      "authorship_tag": "ABX9TyMnnXUORvSE4KNUJ+EthEu1",
      "include_colab_link": true
    },
    "kernelspec": {
      "display_name": "Python 3",
      "name": "python3"
    },
    "language_info": {
      "name": "python"
    }
  },
  "nbformat": 4,
  "nbformat_minor": 0
}