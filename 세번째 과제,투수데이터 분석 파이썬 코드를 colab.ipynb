{
  "cells": [
    {
      "cell_type": "markdown",
      "metadata": {
        "id": "view-in-github",
        "colab_type": "text"
      },
      "source": [
        "<a href=\"https://colab.research.google.com/github/yunadla/MaritimeDataMining/blob/main/%EC%84%B8%EB%B2%88%EC%A7%B8%20%EA%B3%BC%EC%A0%9C%2C%ED%88%AC%EC%88%98%EB%8D%B0%EC%9D%B4%ED%84%B0%20%EB%B6%84%EC%84%9D%20%ED%8C%8C%EC%9D%B4%EC%8D%AC%20%EC%BD%94%EB%93%9C%EB%A5%BC%20colab.ipynb\" target=\"_parent\"><img src=\"https://colab.research.google.com/assets/colab-badge.svg\" alt=\"Open In Colab\"/></a>"
      ]
    },
    {
      "cell_type": "code",
      "source": [
        "# 라이브러리 로드\n",
        "import numpy as np\n",
        "import pandas as pd\n",
        "import statsmodels.api as sm\n",
        "from sklearn.model_selection import train_test_split   #sklearn.model_selection library 의 train_test_split() 함수를 사용하는 것을 알림.\n",
        "from sklearn.metrics import mean_squared_error\n",
        "\n",
        "#데이터 로드 및 확인\n",
        "data = pd.read_csv(\"/content/02.야구선수연봉(투수).csv\")\n",
        "print(data.shape)\n",
        "print(data.info())\n",
        "print(data.head())\n",
        "\n",
        "#train/test 데이터셋 분리\n",
        "train_data, test_data = train_test_split(data, test_size=0.2, random_state=1)\n",
        "\n",
        "#회귀모델 생성\n",
        "#모델1\n",
        "model1 = sm.OLS.from_formula(\"SALARY_2018 ~ \" + \" + \".join(train_data.columns.difference(['SALARY_2018'])), data=train_data).fit()\n",
        "print(model1.summary())\n",
        "\n",
        "#모델2\n",
        "model2 = sm.OLS.from_formula(\"SALARY_2018 ~ VICTORY + DEFEAT + SAVE + WAR\", data=train_data).fit()\n",
        "print(model2.summary())\n",
        "\n",
        "# 예측\n",
        "pre_lm = model2.predict(test_data)\n",
        "result = pd.DataFrame({'actual': test_data['SALARY_2018'], 'predict': pre_lm})\n",
        "print(result)\n",
        "\n",
        "# RMSE 계산\n",
        "import math\n",
        "rmse_value = math.sqrt(mean_squared_error(test_data['SALARY_2018'], pre_lm))\n",
        "print(\"RMSE:\", rmse_value)\n"
      ],
      "metadata": {
        "colab": {
          "base_uri": "https://localhost:8080/"
        },
        "id": "Rnh5J4F9mMgW",
        "outputId": "4ed78c80-ae6f-4a42-88c6-4289e3e4218f"
      },
      "execution_count": 1,
      "outputs": [
        {
          "output_type": "stream",
          "name": "stdout",
          "text": [
            "(152, 22)\n",
            "<class 'pandas.core.frame.DataFrame'>\n",
            "RangeIndex: 152 entries, 0 to 151\n",
            "Data columns (total 22 columns):\n",
            " #   Column       Non-Null Count  Dtype  \n",
            "---  ------       --------------  -----  \n",
            " 0   PLAYER       152 non-null    object \n",
            " 1   TEAM         152 non-null    object \n",
            " 2   VICTORY      152 non-null    int64  \n",
            " 3   DEFEAT       152 non-null    int64  \n",
            " 4   SAVE         152 non-null    int64  \n",
            " 5   HOLD         152 non-null    int64  \n",
            " 6   BLOWN        152 non-null    int64  \n",
            " 7   GAME         152 non-null    int64  \n",
            " 8   STARTER      152 non-null    int64  \n",
            " 9   INNING       152 non-null    float64\n",
            " 10  STRIKEOUT9   152 non-null    float64\n",
            " 11  BALLNET9     152 non-null    float64\n",
            " 12  HOMRUN9      152 non-null    float64\n",
            " 13  BABIP        152 non-null    float64\n",
            " 14  LOB          152 non-null    float64\n",
            " 15  ERA          152 non-null    float64\n",
            " 16  RA9_WAR      152 non-null    float64\n",
            " 17  FIP          152 non-null    float64\n",
            " 18  kFIP         152 non-null    float64\n",
            " 19  WAR          152 non-null    float64\n",
            " 20  SALARY_2018  152 non-null    int64  \n",
            " 21  SALARY_2017  152 non-null    int64  \n",
            "dtypes: float64(11), int64(9), object(2)\n",
            "memory usage: 26.3+ KB\n",
            "None\n",
            "           PLAYER    TEAM  VICTORY  DEFEAT  SAVE  HOLD  BLOWN  GAME  STARTER  \\\n",
            "0  Hyun-Jong Yang     KIA       20       6     0     0      0    31       31   \n",
            "1     Casey Kelly      SK       16       7     0     0      0    30       30   \n",
            "2           So-Sa      LG       11      11     1     0      0    30       29   \n",
            "3    Woo-ram Jung  HANWHA        6       4    26     0      5    56        0   \n",
            "4    Brooks Raley   LOTTE       13       7     0     0      0    30       30   \n",
            "\n",
            "   INNING  ...  HOMRUN9  BABIP   LOB   ERA  RA9_WAR   FIP  kFIP   WAR  \\\n",
            "0   193.1  ...     0.79  0.332  72.1  3.44     6.54  3.94  3.82  5.64   \n",
            "1   190.0  ...     0.76  0.342  73.7  3.60     6.91  3.69  3.44  6.62   \n",
            "2   185.1  ...     0.53  0.319  67.1  3.88     6.80  3.52  3.41  6.08   \n",
            "3    59.0  ...     0.76  0.304  79.4  2.75     2.85  3.26  2.69  1.81   \n",
            "4   187.1  ...     0.91  0.323  74.1  3.80     6.13  4.36  4.31  4.38   \n",
            "\n",
            "   SALARY_2018  SALARY_2017  \n",
            "0       230000       150000  \n",
            "1       140000        85000  \n",
            "2       120000        50000  \n",
            "3       120000       120000  \n",
            "4       111000        85000  \n",
            "\n",
            "[5 rows x 22 columns]\n",
            "                            OLS Regression Results                            \n",
            "==============================================================================\n",
            "Dep. Variable:            SALARY_2018   R-squared:                       1.000\n",
            "Model:                            OLS   Adj. R-squared:                    nan\n",
            "Method:                 Least Squares   F-statistic:                       nan\n",
            "Date:                Wed, 02 Apr 2025   Prob (F-statistic):                nan\n",
            "Time:                        13:52:02   Log-Likelihood:                 2057.6\n",
            "No. Observations:                 121   AIC:                            -3873.\n",
            "Df Residuals:                       0   BIC:                            -3535.\n",
            "Df Model:                         120                                         \n",
            "Covariance Type:            nonrobust                                         \n",
            "==============================================================================================\n",
            "                                 coef    std err          t      P>|t|      [0.025      0.975]\n",
            "----------------------------------------------------------------------------------------------\n",
            "Intercept                   1500.8461        inf          0        nan         nan         nan\n",
            "PLAYER[T.Brooks Raley]       131.1369        inf          0        nan         nan         nan\n",
            "PLAYER[T.Byung-Yong Chae]   2333.0598        inf          0        nan         nan         nan\n",
            "PLAYER[T.Casey Kelly]       6424.3669        inf          0        nan         nan         nan\n",
            "PLAYER[T.Chan-Heon Jung]   -5030.9110        inf         -0        nan         nan         nan\n",
            "PLAYER[T.Chang-Min Im]      3582.7009        inf          0        nan         nan         nan\n",
            "PLAYER[T.Chang-Sik Song]    3015.6537        inf          0        nan         nan         nan\n",
            "PLAYER[T.Chang-Yong Lim]   -4635.4869        inf         -0        nan         nan         nan\n",
            "PLAYER[T.Dae-Hyun Kim]      3436.7182        inf          0        nan         nan         nan\n",
            "PLAYER[T.Dae-Yoo Kim]      -2898.1629        inf         -0        nan         nan         nan\n",
            "PLAYER[T.Deok-Ju Ham]      -1.159e+04        inf         -0        nan         nan         nan\n",
            "PLAYER[T.Do-Young Kim]     -3618.3094        inf         -0        nan         nan         nan\n",
            "PLAYER[T.Dong-Hwan Choi]    3032.4826        inf          0        nan         nan         nan\n",
            "PLAYER[T.Dong-Hyun Lee]    -2638.3880        inf         -0        nan         nan         nan\n",
            "PLAYER[T.Dong-Seob Shim]     644.8804        inf          0        nan         nan         nan\n",
            "PLAYER[T.Dong-Yoon Jeong]  -1876.3065        inf         -0        nan         nan         nan\n",
            "PLAYER[T.Eun-Bum Song]      -615.8839        inf         -0        nan         nan         nan\n",
            "PLAYER[T.Geon-Hee Hong]    -1597.6898        inf         -0        nan         nan         nan\n",
            "PLAYER[T.Geon-Uk Yeo]      -3440.9749        inf         -0        nan         nan         nan\n",
            "PLAYER[T.Geon-Yeop Heo]    -1235.2219        inf         -0        nan         nan         nan\n",
            "PLAYER[T.Geum-Kang Choi]    5318.4235        inf          0        nan         nan         nan\n",
            "PLAYER[T.Geun-Hong Park]    -554.2066        inf         -0        nan         nan         nan\n",
            "PLAYER[T.Geun-Jong Cho]     8191.3176        inf          0        nan         nan         nan\n",
            "PLAYER[T.Geun-Young Yoon]  -1208.3481        inf         -0        nan         nan         nan\n",
            "PLAYER[T.Gyu-Hyun Ahn]     -2947.1434        inf         -0        nan         nan         nan\n",
            "PLAYER[T.Gyu-Jin Yoon]     -3304.2871        inf         -0        nan         nan         nan\n",
            "PLAYER[T.Gyun Seo]           799.3423        inf          0        nan         nan         nan\n",
            "PLAYER[T.Hee-Kwan Yoo]     -1.167e+04        inf         -0        nan         nan         nan\n",
            "PLAYER[T.Hee-Sang Yoon]    -9758.6840        inf         -0        nan         nan         nan\n",
            "PLAYER[T.Hee-Su Park]        342.6035        inf          0        nan         nan         nan\n",
            "PLAYER[T.Hee-Woon Ryu]      9594.2322        inf          0        nan         nan         nan\n",
            "PLAYER[T.Hyeong-Beom Lee]   1707.1225        inf          0        nan         nan         nan\n",
            "PLAYER[T.Hyuk Kwon]         1965.7669        inf          0        nan         nan         nan\n",
            "PLAYER[T.Hyun-Ho Lee]       3421.9022        inf          0        nan         nan         nan\n",
            "PLAYER[T.Hyun-Jong Yang]    3.793e+04        inf          0        nan         nan         nan\n",
            "PLAYER[T.Hyun-Jun Im]       2130.9544        inf          0        nan         nan         nan\n",
            "PLAYER[T.Hyun-Seung Lee]     806.3347        inf          0        nan         nan         nan\n",
            "PLAYER[T.Jae-Guk Ryu]      -1.682e+04        inf         -0        nan         nan         nan\n",
            "PLAYER[T.Jae-Hak Lee]      -1171.1092        inf         -0        nan         nan         nan\n",
            "PLAYER[T.Jae-Hwan Bae]     -4629.2418        inf         -0        nan         nan         nan\n",
            "PLAYER[T.Jae-Won Jung]     -1064.1437        inf         -0        nan         nan         nan\n",
            "PLAYER[T.Jae-Woong Shin]    -490.3910        inf         -0        nan         nan         nan\n",
            "PLAYER[T.Jae-Yong Cha]      6180.2336        inf          0        nan         nan         nan\n",
            "PLAYER[T.Jae-Young Kim]    -3692.4405        inf         -0        nan         nan         nan\n",
            "PLAYER[T.Jang-Ho Bae]       3208.8205        inf          0        nan         nan         nan\n",
            "PLAYER[T.Jang-San Kang]    -1547.7578        inf         -0        nan         nan         nan\n",
            "PLAYER[T.Jeong-Woo Im]     -6900.6604        inf         -0        nan         nan         nan\n",
            "PLAYER[T.Ji-Gwang Choi]     2241.6353        inf          0        nan         nan         nan\n",
            "PLAYER[T.Ji-Hoon Park]     -1259.7791        inf         -0        nan         nan         nan\n",
            "PLAYER[T.Ji-Yong Kim]       1226.8077        inf          0        nan         nan         nan\n",
            "PLAYER[T.Jin-Hyung Park]    3808.8333        inf          0        nan         nan         nan\n",
            "PLAYER[T.Jin-Sung Kim]     -5386.2146        inf         -0        nan         nan         nan\n",
            "PLAYER[T.Jin-Woo Im]        2123.1709        inf          0        nan         nan         nan\n",
            "PLAYER[T.Jin-Woo Kim]      -3300.5496        inf         -0        nan         nan         nan\n",
            "PLAYER[T.Jin-Yong Seo]      -731.0895        inf         -0        nan         nan         nan\n",
            "PLAYER[T.Jin-Young Kim]     2382.3574        inf          0        nan         nan         nan\n",
            "PLAYER[T.Jong-Hoon Kim]    -7437.7919        inf         -0        nan         nan         nan\n",
            "PLAYER[T.Jong-Hyeok Lee]   -1655.7335        inf         -0        nan         nan         nan\n",
            "PLAYER[T.Jong-Hyun Won]     -739.1341        inf         -0        nan         nan         nan\n",
            "PLAYER[T.Joo-Han Kim]       2191.1866        inf          0        nan         nan         nan\n",
            "PLAYER[T.Ju-Young Son]      3202.7827        inf          0        nan         nan         nan\n",
            "PLAYER[T.Jun-Hyuk Lim]     -1858.6022        inf         -0        nan         nan         nan\n",
            "PLAYER[T.Jung-Bae Park]     7104.1275        inf          0        nan         nan         nan\n",
            "PLAYER[T.Jung-Jin Park]    -1.048e+04        inf         -0        nan         nan         nan\n",
            "PLAYER[T.Jung-Min Lee]     -3992.1122        inf         -0        nan         nan         nan\n",
            "PLAYER[T.Jung-Rak Shin]     1165.0040        inf          0        nan         nan         nan\n",
            "PLAYER[T.Kang-Yool Kim]     5438.5197        inf          0        nan         nan         nan\n",
            "PLAYER[T.Ki-Jun Lim]        2416.8990        inf          0        nan         nan         nan\n",
            "PLAYER[T.Ki-Young Lim]     -7569.8358        inf         -0        nan         nan         nan\n",
            "PLAYER[T.Kwang-Eun Moon]     200.9865        inf          0        nan         nan         nan\n",
            "PLAYER[T.Kwon Ju]           4170.9894        inf          0        nan         nan         nan\n",
            "PLAYER[T.Kyu-Min Woo]      -5527.8687        inf         -0        nan         nan         nan\n",
            "PLAYER[T.Kyung-Eun No]      -428.8437        inf         -0        nan         nan         nan\n",
            "PLAYER[T.Kyung-Tae Park]    -785.8110        inf         -0        nan         nan         nan\n",
            "PLAYER[T.Min-Ho Lee]       -4419.4532        inf         -0        nan         nan         nan\n",
            "PLAYER[T.Min-Ik Jang]       2581.6617        inf          0        nan         nan         nan\n",
            "PLAYER[T.Min-Woo Kim]      -1645.0891        inf         -0        nan         nan         nan\n",
            "PLAYER[T.Myung-Woo Lee]      662.4238        inf          0        nan         nan         nan\n",
            "PLAYER[T.Pat Dean]         -1.909e+04        inf         -0        nan         nan         nan\n",
            "PLAYER[T.Peaband]           2.445e+04        inf          0        nan         nan         nan\n",
            "PLAYER[T.Sa-Yul Kim]       -6877.9765        inf         -0        nan         nan         nan\n",
            "PLAYER[T.Sang-Baek Eom]    -1419.3558        inf         -0        nan         nan         nan\n",
            "PLAYER[T.Sang-Sam Hong]     -582.1989        inf         -0        nan         nan         nan\n",
            "PLAYER[T.Sang-Won Park]    -1492.3714        inf         -0        nan         nan         nan\n",
            "PLAYER[T.Se-Jin Park]      -1112.1067        inf         -0        nan         nan         nan\n",
            "PLAYER[T.Se-Woong Park]     1723.2471        inf          0        nan         nan         nan\n",
            "PLAYER[T.Seong-Hwan Yoon]  -1.475e+04        inf         -0        nan         nan         nan\n",
            "PLAYER[T.Seung-Hoe Kim]     -611.6225        inf         -0        nan         nan         nan\n",
            "PLAYER[T.Seung-Hyuk Han]    -607.0526        inf         -0        nan         nan         nan\n",
            "PLAYER[T.Seung-Hyun Kim]    8847.2796        inf          0        nan         nan         nan\n",
            "PLAYER[T.Seung-Hyun Lee]    2957.8121        inf          0        nan         nan         nan\n",
            "PLAYER[T.Seung-Jun Song]   -1.183e+04        inf         -0        nan         nan         nan\n",
            "PLAYER[T.Seung-Lak Son]     1425.2683        inf          0        nan         nan         nan\n",
            "PLAYER[T.Seung-Won Moon]    8267.7816        inf          0        nan         nan         nan\n",
            "PLAYER[T.Shi-Hyun Kim]      1678.4430        inf          0        nan         nan         nan\n",
            "PLAYER[T.So-Sa]             2.745e+04        inf          0        nan         nan         nan\n",
            "PLAYER[T.Soo-Chang Shim]    -1.23e+04        inf         -0        nan         nan         nan\n",
            "PLAYER[T.Soo-Min Jung]      1904.8707        inf          0        nan         nan         nan\n",
            "PLAYER[T.Su-Bum Hwang]      4080.2271        inf          0        nan         nan         nan\n",
            "PLAYER[T.Su-Min Lee]        2893.6260        inf          0        nan         nan         nan\n",
            "PLAYER[T.Sung-Mu Ahn]        714.4668        inf          0        nan         nan         nan\n",
            "PLAYER[T.Sung-Mu Hong]     -5657.0200        inf         -0        nan         nan         nan\n",
            "PLAYER[T.Sung-Yong Hong]      69.6890        inf          0        nan         nan         nan\n",
            "PLAYER[T.Sung-Young Choi]    343.3664        inf          0        nan         nan         nan\n",
            "PLAYER[T.Tae-Ho Min]        4006.0393        inf          0        nan         nan         nan\n",
            "PLAYER[T.Tae-Hoon Kim]      3769.3766        inf          0        nan         nan         nan\n",
            "PLAYER[T.Tae-Yang Lee]        90.8444        inf          0        nan         nan         nan\n",
            "PLAYER[T.Won-Joong Kim]     1123.6972        inf          0        nan         nan         nan\n",
            "PLAYER[T.Won-Jun Jang]     -2.158e+04        inf         -0        nan         nan         nan\n",
            "PLAYER[T.Woo-Suk Go]         404.1954        inf          0        nan         nan         nan\n",
            "PLAYER[T.Woo-Yeol Bae]       445.8606        inf          0        nan         nan         nan\n",
            "PLAYER[T.Woo-ram Jung]     -7058.4546        inf         -0        nan         nan         nan\n",
            "PLAYER[T.Yong-Woon Jeong]   1.018e+04        inf          0        nan         nan         nan\n",
            "PLAYER[T.Yoon-Goo Kang]     2739.0072        inf          0        nan         nan         nan\n",
            "PLAYER[T.Young-Ha Lee]      6262.3197        inf          0        nan         nan         nan\n",
            "PLAYER[T.Young-Hoon Seong] -4657.6774        inf         -0        nan         nan         nan\n",
            "PLAYER[T.Young-Il Jeong]   -5451.8805        inf         -0        nan         nan         nan\n",
            "PLAYER[T.Young-Min Son]    -1757.0711        inf         -0        nan         nan         nan\n",
            "PLAYER[T.Young-Myung Ahn]   1.303e+04        inf          0        nan         nan         nan\n",
            "PLAYER[T.Young-Pyo Ko]     -1.774e+04        inf         -0        nan         nan         nan\n",
            "PLAYER[T.Yu-Su Jeon]       -2099.6516        inf         -0        nan         nan         nan\n",
            "TEAM[T.HANWHA]              5976.7839        inf          0        nan         nan         nan\n",
            "TEAM[T.KIA]                 3138.7719        inf          0        nan         nan         nan\n",
            "TEAM[T.KT]                  6090.4202        inf          0        nan         nan         nan\n",
            "TEAM[T.LG]                  5090.4072        inf          0        nan         nan         nan\n",
            "TEAM[T.LOTTE]               2008.9109        inf          0        nan         nan         nan\n",
            "TEAM[T.NC]                  3256.3777        inf          0        nan         nan         nan\n",
            "TEAM[T.SAMSUNG]             1761.8448        inf          0        nan         nan         nan\n",
            "TEAM[T.SK]                  4233.4990        inf          0        nan         nan         nan\n",
            "BABIP                       -665.5175        inf         -0        nan         nan         nan\n",
            "BALLNET9                    1178.0156        inf          0        nan         nan         nan\n",
            "BLOWN                        346.5720        inf          0        nan         nan         nan\n",
            "DEFEAT                       -60.1621        inf         -0        nan         nan         nan\n",
            "ERA                           78.9977        inf          0        nan         nan         nan\n",
            "FIP                          837.1066        inf          0        nan         nan         nan\n",
            "GAME                          61.3792        inf          0        nan         nan         nan\n",
            "HOLD                        -324.8788        inf         -0        nan         nan         nan\n",
            "HOMRUN9                     2373.7649        inf          0        nan         nan         nan\n",
            "INNING                       -52.9580        inf         -0        nan         nan         nan\n",
            "LOB                           19.2529        inf          0        nan         nan         nan\n",
            "RA9_WAR                      130.8345        inf          0        nan         nan         nan\n",
            "SALARY_2017                    0.9904        inf          0        nan         nan         nan\n",
            "SAVE                        -382.7034        inf         -0        nan         nan         nan\n",
            "STARTER                     -260.3662        inf         -0        nan         nan         nan\n",
            "STRIKEOUT9                 -1312.7768        inf         -0        nan         nan         nan\n",
            "VICTORY                      659.6962        inf          0        nan         nan         nan\n",
            "WAR                         8796.2431        inf          0        nan         nan         nan\n",
            "kFIP                       -1950.8065        inf         -0        nan         nan         nan\n",
            "==============================================================================\n",
            "Omnibus:                      104.631   Durbin-Watson:                   1.573\n",
            "Prob(Omnibus):                  0.000   Jarque-Bera (JB):              812.408\n",
            "Skew:                          -3.129   Prob(JB):                    3.87e-177\n",
            "Kurtosis:                      14.045   Cond. No.                     1.06e+06\n",
            "==============================================================================\n",
            "\n",
            "Notes:\n",
            "[1] Standard Errors assume that the covariance matrix of the errors is correctly specified.\n",
            "[2] The input rank is higher than the number of observations.\n",
            "[3] The condition number is large, 1.06e+06. This might indicate that there are\n",
            "strong multicollinearity or other numerical problems.\n",
            "                            OLS Regression Results                            \n",
            "==============================================================================\n",
            "Dep. Variable:            SALARY_2018   R-squared:                       0.693\n",
            "Model:                            OLS   Adj. R-squared:                  0.682\n",
            "Method:                 Least Squares   F-statistic:                     65.47\n",
            "Date:                Wed, 02 Apr 2025   Prob (F-statistic):           7.37e-29\n",
            "Time:                        13:52:02   Log-Likelihood:                -1359.3\n",
            "No. Observations:                 121   AIC:                             2729.\n",
            "Df Residuals:                     116   BIC:                             2743.\n",
            "Df Model:                           4                                         \n",
            "Covariance Type:            nonrobust                                         \n",
            "==============================================================================\n",
            "                 coef    std err          t      P>|t|      [0.025      0.975]\n",
            "------------------------------------------------------------------------------\n",
            "Intercept   4820.0776   2543.807      1.895      0.061    -218.252    9858.407\n",
            "VICTORY     2817.1971    845.880      3.330      0.001    1141.826    4492.568\n",
            "DEFEAT     -1796.7433    822.673     -2.184      0.031   -3426.150    -167.337\n",
            "SAVE        1158.2981    336.387      3.443      0.001     492.042    1824.554\n",
            "WAR          1.45e+04   2239.886      6.472      0.000    1.01e+04    1.89e+04\n",
            "==============================================================================\n",
            "Omnibus:                       46.631   Durbin-Watson:                   2.109\n",
            "Prob(Omnibus):                  0.000   Jarque-Bera (JB):              283.046\n",
            "Skew:                           1.104   Prob(JB):                     3.45e-62\n",
            "Kurtosis:                      10.160   Cond. No.                         11.4\n",
            "==============================================================================\n",
            "\n",
            "Notes:\n",
            "[1] Standard Errors assume that the covariance matrix of the errors is correctly specified.\n",
            "     actual       predict\n",
            "59    10000  39974.619819\n",
            "33    20000  14498.889582\n",
            "69     8500  11656.423474\n",
            "127    3200   3660.275219\n",
            "31    20000  49535.237615\n",
            "107    4000  11551.607630\n",
            "97     5200  20753.344459\n",
            "14    50000  34522.360453\n",
            "53    11500  33330.787315\n",
            "44    15000  27195.257084\n",
            "146    2800   5979.879921\n",
            "138    3000   2355.497574\n",
            "78     7100  -5343.083468\n",
            "102    4500   2232.154340\n",
            "5    100000  87538.406815\n",
            "85     6300   4049.414877\n",
            "16    50000   7699.066206\n",
            "100    4700  -4954.818843\n",
            "89     6000   6993.202690\n",
            "95     5400   6848.227396\n",
            "91     6000    123.828397\n",
            "124    3300   4675.102276\n",
            "92     5800   8883.508283\n",
            "99     4700  16051.468513\n",
            "93     5700  -2449.204364\n",
            "40    15500  52790.122512\n",
            "29    23000  23944.153710\n",
            "42    15000   8103.096332\n",
            "54    11000  39639.359853\n",
            "122    3400   5840.531400\n",
            "35    19000  20492.785338\n",
            "RMSE: 15760.477097309951\n"
          ]
        },
        {
          "output_type": "stream",
          "name": "stderr",
          "text": [
            "/usr/local/lib/python3.11/dist-packages/statsmodels/regression/linear_model.py:1795: RuntimeWarning: divide by zero encountered in divide\n",
            "  return 1 - (np.divide(self.nobs - self.k_constant, self.df_resid)\n",
            "/usr/local/lib/python3.11/dist-packages/statsmodels/regression/linear_model.py:1795: RuntimeWarning: invalid value encountered in scalar multiply\n",
            "  return 1 - (np.divide(self.nobs - self.k_constant, self.df_resid)\n",
            "/usr/local/lib/python3.11/dist-packages/statsmodels/regression/linear_model.py:1717: RuntimeWarning: divide by zero encountered in scalar divide\n",
            "  return np.dot(wresid, wresid) / self.df_resid\n"
          ]
        }
      ]
    },
    {
      "cell_type": "code",
      "source": [
        "# 라이브러리 로드\n",
        "import numpy as np\n",
        "import pandas as pd\n",
        "import statsmodels.api as sm\n",
        "from sklearn.model_selection import train_test_split   #sklearn.model_selection library 의 train_test_split() 함수를 사용하는 것을 알림.\n",
        "from sklearn.metrics import mean_squared_error\n"
      ],
      "metadata": {
        "id": "3epCqgtWnl5W"
      },
      "execution_count": null,
      "outputs": []
    },
    {
      "cell_type": "markdown",
      "source": [
        "라이브러리 로드\n",
        "\n",
        "numpy와 pandas: 수치 계산과 데이터 처리를 위해 사용합니다.\n",
        "\n",
        "statsmodels: 회귀분석 같은 통계 모델을 만들 때 사용됩니다.\n",
        "\n",
        "sklearn.model_selection의 train_test_split: 데이터를 학습용과 테스트용으로 나누어 모델의 성능을 평가할 수 있게 해줍니다.\n",
        "\n",
        "sklearn.metrics의 mean_squared_error: 모델 예측 결과와 실제 값의 차이를 평가하는 지표를 계산할 때 사용합니다."
      ],
      "metadata": {
        "id": "aBlVKZBwqrIS"
      }
    },
    {
      "cell_type": "markdown",
      "source": [],
      "metadata": {
        "id": "bKSLGEUsr8gL"
      }
    },
    {
      "cell_type": "code",
      "source": [
        "#데이터 로드 및 확인\n",
        "data = pd.read_csv(\"/content/02.야구선수연봉(투수).csv\")\n",
        "print(data.shape)\n",
        "print(data.info())\n",
        "print(data.head())\n"
      ],
      "metadata": {
        "id": "yUOATxbBnmC8"
      },
      "execution_count": null,
      "outputs": []
    },
    {
      "cell_type": "markdown",
      "source": [
        "데이터 로드 및 확인: **pandas** 라이브러리를 사용하여 /content/02.야구선수연봉(투수).csv 파일에서 데이터를 불러오고, **shape, info, head** 함수를 통해 데이터의 크기, 정보, 첫 몇 행을 확인합니다.\n",
        "\n",
        "**pd.read_csv(\"/content/02.야구선수연봉(투수).csv\")**를 통해 CSV 파일에 저장된 데이터를 읽어옵니다.\n",
        "\n",
        "**data.shape**는 데이터가 몇 개의 행과 열로 구성되어 있는지 보여줍니다.\n",
        "\n",
        "**data.info()**는 각 열의 데이터 타입과 누락된 값 여부 등 기본 정보를 알려줍니다.\n",
        "\n",
        "**data.head()**는 데이터의 첫 5개 행을 출력하여 데이터의 형태를 확인할 수 있게 해줍니다."
      ],
      "metadata": {
        "id": "qHFwB7P6q3A1"
      }
    },
    {
      "cell_type": "code",
      "source": [
        "#train/test 데이터셋 분리\n",
        "train_data, test_data = train_test_split(data, test_size=0.2, random_state=1)"
      ],
      "metadata": {
        "id": "wPIf6Fl4nmKn"
      },
      "execution_count": null,
      "outputs": []
    },
    {
      "cell_type": "markdown",
      "source": [
        "데이터 분할: **train_test_split** 함수를 사용하여 데이터를 훈련 데이터와 테스트 데이터로 분할합니다. 여기서는 테스트 데이터 비율을 20%로 설정하고, **random_state**를 1로 지정하여 결과를 재현 가능하도록 합니다."
      ],
      "metadata": {
        "id": "ZDHQwjgcq5bw"
      }
    },
    {
      "cell_type": "code",
      "source": [
        "#회귀모델 생성\n",
        "#모델1\n",
        "model1 = sm.OLS.from_formula(\"SALARY_2018 ~ \" + \" + \".join(train_data.columns.difference(['SALARY_2018'])), data=train_data).fit()\n",
        "print(model1.summary())\n",
        "\n"
      ],
      "metadata": {
        "id": "6OYpuYO7nu0A"
      },
      "execution_count": null,
      "outputs": []
    },
    {
      "cell_type": "markdown",
      "source": [
        "모델 1:**\"SALARY_2018 ~ \" + \" + \".join(train_data.columns.difference(['SALARY_2018']))**\n",
        "\n",
        "종속 변수: 연봉(**SALARY_2018**)\n",
        "\n",
        "독립 변수: 연봉을 제외한 나머지 모든 변수들\n",
        "\n",
        " **OLS.from_formula** 함수를 사용하여 모델을 생성하고\n",
        "\n",
        " fit 함수를 사용하여 모델을 훈련 데이터에 적합시킵니다.\n",
        "\n",
        " model1.summary**()**는 회귀 분석 결과(계수, **p-value, R²** 등)를 보여줍니다."
      ],
      "metadata": {
        "id": "1BQ57aWXrkzH"
      }
    },
    {
      "cell_type": "code",
      "source": [
        "#모델2\n",
        "model2 = sm.OLS.from_formula(\"SALARY_2018 ~ VICTORY + DEFEAT + SAVE + WAR\", data=train_data).fit()\n",
        "print(model2.summary())\n",
        "\n"
      ],
      "metadata": {
        "id": "BASSMtrsnu7d"
      },
      "execution_count": null,
      "outputs": []
    },
    {
      "cell_type": "markdown",
      "source": [
        "모델 2: **SALARY_2018**을 종속 변수로 하고, **VICTORY, DEFEAT, SAVE, WAR *열을 독립 변수로 하는 모델입니다. 마찬가지로  OLS.from_formula 함수와 *fit** 함수를 사용하여 모델을 생성하고 훈련합니다.\n",
        "\n",
        "**model2.summary(**)를 통해 결과를 확인할 수 있습니다.\n"
      ],
      "metadata": {
        "id": "RfLg8scNrhqD"
      }
    },
    {
      "cell_type": "markdown",
      "source": [],
      "metadata": {
        "id": "fRl0J3gqs0dx"
      }
    },
    {
      "cell_type": "code",
      "source": [
        "# 예측\n",
        "pre_lm = model2.predict(test_data)\n",
        "result = pd.DataFrame({'actual': test_data['SALARY_2018'], 'predict': pre_lm})\n",
        "print(result)\n"
      ],
      "metadata": {
        "id": "nvJwetbAnvEy"
      },
      "execution_count": null,
      "outputs": []
    },
    {
      "cell_type": "markdown",
      "source": [
        "예측: 훈련된 모델 2를 사용하여 테스트 데이터의 연봉을 예측합니다. predict 함수를 사용하여 예측값을 얻고, 실제값과 함께 DataFrame으로 저장합니다."
      ],
      "metadata": {
        "id": "6mN-WPerraql"
      }
    },
    {
      "cell_type": "code",
      "source": [
        "# RMSE 계산\n",
        "import math\n",
        "rmse_value = math.sqrt(mean_squared_error(test_data['SALARY_2018'], pre_lm))\n",
        "print(\"RMSE:\", rmse_value)\n"
      ],
      "metadata": {
        "id": "JEc-DuhJny8F"
      },
      "execution_count": null,
      "outputs": []
    },
    {
      "cell_type": "markdown",
      "source": [
        "**RMSE (Root Mean Squared Error)**:\n",
        "\n",
        "**mean_squared_error** 함수를 이용해 예측값과 실제값의 오차 제곱의 평균을 구한 후, **math.sqrt**로 제곱근을 계산합니다.\n",
        "\n",
        "**RMSE**는 예측값과 실제값 사이의 평균적인 차이를 직관적으로 보여주는 지표입니다.\n",
        "\n"
      ],
      "metadata": {
        "id": "neRqETJftKaL"
      }
    },
    {
      "cell_type": "markdown",
      "source": [
        "이 코드는 데이터 로드 → 데이터 확인 → 학습/테스트 분리 → 두 가지 회귀 모델 생성(전체 변수 vs. 선택 변수) → 모델 예측 → 모델 평가(RMSE 계산)의 순서로 진행됩니다.\n",
        "\n",
        "이 코드를 통해 데이터 전처리, 야구 선수 연봉 예측을 위한 회귀분석 모델 구축, 예측, 그리고 두 가지 모델을 비교하여 변수 선택이 모델 성능에 미치는 영향을 분석할 수 있습니다.\n"
      ],
      "metadata": {
        "id": "pE6mQkkvtfsZ"
      }
    }
  ],
  "metadata": {
    "colab": {
      "name": "Overview of Colaboratory Features",
      "provenance": [],
      "include_colab_link": true
    },
    "kernelspec": {
      "display_name": "Python 3",
      "name": "python3"
    }
  },
  "nbformat": 4,
  "nbformat_minor": 0
}